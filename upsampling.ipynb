{
 "cells": [
  {
   "cell_type": "code",
   "execution_count": 2,
   "id": "senior-fraud",
   "metadata": {},
   "outputs": [],
   "source": [
    "import pandas as pd\n",
    "import matplotlib.pyplot as plt\n",
    "%matplotlib inline\n",
    "from sklearn.utils import resample"
   ]
  },
  {
   "cell_type": "code",
   "execution_count": 3,
   "id": "revised-romania",
   "metadata": {},
   "outputs": [],
   "source": [
    "from pathlib import Path"
   ]
  },
  {
   "cell_type": "code",
   "execution_count": 7,
   "id": "cultural-decade",
   "metadata": {},
   "outputs": [],
   "source": [
    "wake_word_data = list([str(item) for item in Path('data/wake_word/').glob('*.wav')])"
   ]
  },
  {
   "cell_type": "code",
   "execution_count": 8,
   "id": "closing-elimination",
   "metadata": {},
   "outputs": [
    {
     "data": {
      "text/plain": [
       "['data/wake_word/2021-03-24 22:43:27.342154.wav',\n",
       " 'data/wake_word/2021-03-24 22:43:19.905423.wav',\n",
       " 'data/wake_word/2021-03-24 22:42:46.285405.wav',\n",
       " 'data/wake_word/2021-03-24 22:43:12.701008.wav',\n",
       " 'data/wake_word/2021-03-24 22:43:30.938836.wav',\n",
       " 'data/wake_word/2021-03-24 22:43:08.840333.wav',\n",
       " 'data/wake_word/2021-03-24 22:43:16.305451.wav',\n",
       " 'data/wake_word/2021-03-24 22:43:04.574166.wav',\n",
       " 'data/wake_word/2021-03-24 22:43:00.642984.wav',\n",
       " 'data/wake_word/2021-03-24 22:43:23.691785.wav',\n",
       " 'data/wake_word/2021-03-24 22:42:56.019747.wav',\n",
       " 'data/wake_word/2021-03-24 22:43:36.305219.wav',\n",
       " 'data/wake_word/2021-03-24 22:43:41.118710.wav',\n",
       " 'data/wake_word/2021-03-24 22:42:50.605608.wav']"
      ]
     },
     "execution_count": 8,
     "metadata": {},
     "output_type": "execute_result"
    }
   ],
   "source": [
    "wake_word_data"
   ]
  },
  {
   "cell_type": "code",
   "execution_count": 9,
   "id": "therapeutic-rover",
   "metadata": {},
   "outputs": [],
   "source": [
    "not_wake_word_data = list([str(item) for item in Path('data/notwakeword/').glob('*.wav')])"
   ]
  },
  {
   "cell_type": "code",
   "execution_count": 11,
   "id": "living-university",
   "metadata": {},
   "outputs": [],
   "source": [
    "df_wake = pd.DataFrame(data={'path': wake_word_data, 'wake': 1})"
   ]
  },
  {
   "cell_type": "code",
   "execution_count": 12,
   "id": "hungarian-rubber",
   "metadata": {},
   "outputs": [],
   "source": [
    "df_not_wake = pd.DataFrame(data={'path': not_wake_word_data, 'wake': 0})"
   ]
  },
  {
   "cell_type": "code",
   "execution_count": 16,
   "id": "latter-dover",
   "metadata": {},
   "outputs": [],
   "source": [
    "df = pd.concat([df_wake, df_not_wake], ignore_index=True)"
   ]
  },
  {
   "cell_type": "code",
   "execution_count": 21,
   "id": "chicken-robertson",
   "metadata": {},
   "outputs": [
    {
     "data": {
      "text/plain": [
       "<AxesSubplot:>"
      ]
     },
     "execution_count": 21,
     "metadata": {},
     "output_type": "execute_result"
    },
    {
     "data": {
      "image/png": "[encoded data removed]",
      "text/plain": [
       "<Figure size 432x288 with 1 Axes>"
      ]
     },
     "metadata": {
      "needs_background": "light"
     },
     "output_type": "display_data"
    }
   ],
   "source": [
    "df.wake.hist()"
   ]
  },
  {
   "cell_type": "code",
   "execution_count": 24,
   "id": "coordinated-affiliation",
   "metadata": {},
   "outputs": [],
   "source": [
    "df_wake_upsampled = pd.DataFrame(data={'path': resample(wake_word_data, n_samples=600), 'wake': 1}) "
   ]
  },
  {
   "cell_type": "code",
   "execution_count": 25,
   "id": "technical-coffee",
   "metadata": {},
   "outputs": [],
   "source": [
    "df.to_csv('data/original.csv', index=False)"
   ]
  },
  {
   "cell_type": "code",
   "execution_count": 26,
   "id": "dutch-brunswick",
   "metadata": {},
   "outputs": [],
   "source": [
    "df = pd.concat([df_wake_upsampled, df_not_wake], ignore_index=True)"
   ]
  },
  {
   "cell_type": "code",
   "execution_count": 27,
   "id": "exceptional-presence",
   "metadata": {},
   "outputs": [],
   "source": [
    "df.to_csv('data/upsampled_data.csv', index=False)"
   ]
  },
  {
   "cell_type": "code",
   "execution_count": 3,
   "id": "aboriginal-reducing",
   "metadata": {},
   "outputs": [],
   "source": [
    "df = pd.read_csv('data/upsampled_data.csv')"
   ]
  },
  {
   "cell_type": "code",
   "execution_count": 5,
   "id": "respective-sculpture",
   "metadata": {},
   "outputs": [
    {
     "data": {
      "text/plain": [
       "<AxesSubplot:>"
      ]
     },
     "execution_count": 5,
     "metadata": {},
     "output_type": "execute_result"
    },
    {
     "data": {
      "image/png": "[encoded data removed]",
      "text/plain": [
       "<Figure size 432x288 with 1 Axes>"
      ]
     },
     "metadata": {
      "needs_background": "light"
     },
     "output_type": "display_data"
    }
   ],
   "source": [
    "df.wake.hist()"
   ]
  },
  {
   "cell_type": "code",
   "execution_count": null,
   "id": "rotary-planning",
   "metadata": {},
   "outputs": [],
   "source": []
  }
 ],
 "metadata": {
  "kernelspec": {
   "display_name": "Python 3",
   "language": "python",
   "name": "python3"
  },
  "language_info": {
   "codemirror_mode": {
    "name": "ipython",
    "version": 3
   },
   "file_extension": ".py",
   "mimetype": "text/x-python",
   "name": "python",
   "nbconvert_exporter": "python",
   "pygments_lexer": "ipython3",
   "version": "3.8.6"
  }
 },
 "nbformat": 4,
 "nbformat_minor": 5
}
